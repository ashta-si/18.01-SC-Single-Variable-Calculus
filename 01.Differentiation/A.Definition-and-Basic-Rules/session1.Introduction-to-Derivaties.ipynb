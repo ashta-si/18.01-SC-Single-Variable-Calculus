{
 "cells": [
  {
   "cell_type": "markdown",
   "id": "de03501f",
   "metadata": {},
   "source": [
    "# Session 1 : Introduction to Derivatives\n",
    "\n",
    "### Overview\n",
    "\n",
    "This session provides a brief overview of Unit 1 and describes the derivative as the slope of a tangent line. It concludes by stating the main formula defining the derivative.\n",
    "\n",
    "### Lecture Videos and Notes\n",
    "\n",
    "**Video Excerpts**\n",
    "\n",
    "- [Clip 1: Introduction to 18.01](#clip-1:-Introduction-to-18.01)\n",
    "- [Clip 2: Geometric Interpretation of Differentiation](Clip-2:-Geometric-Interpretation-of-Differentiation)\n",
    "- [Clip 3: Limit of Secants](Clip-3:-Limit-of-Secants)\n",
    "- [Clip 4: Slope as Ratio](Clip-4:-Slope-as-Ratio)\n",
    "- [Clip 5: Main Formula](Clip-5:-Main-Formula)\n",
    "\n",
    "**Worked Example**\n",
    "Secants and Tangents\n",
    "\n",
    "- Problem (PDF)\n",
    "- Solution (PDF)\n",
    "\n",
    "please use the mathlet below to complete the problem.\n",
    "\n",
    "**Mathlet**\n",
    "- [Secant Approximation](https://ocw.mit.edu/ans7870/18/18.01SC/f10/mathlets/secantApproximation.html)\n",
    "\n",
    "### Recitation Video\n",
    "\n",
    "1. [**Definition of Derivative**](#Definition-of-Derivative)\n",
    "2. [**Graphing a Derivative Function**](#Graphing-a-Derivative-Function)\n"
   ]
  },
  {
   "cell_type": "markdown",
   "id": "c689b5b5",
   "metadata": {},
   "source": []
  },
  {
   "cell_type": "markdown",
   "id": "66fb9c85",
   "metadata": {},
   "source": []
  }
 ],
 "metadata": {
  "language_info": {
   "name": "python"
  }
 },
 "nbformat": 4,
 "nbformat_minor": 5
}
