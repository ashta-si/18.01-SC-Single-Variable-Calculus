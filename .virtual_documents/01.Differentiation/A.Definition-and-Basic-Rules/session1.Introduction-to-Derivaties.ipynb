











import matplotlib.pyplot as plt
import numpy as np

# --- Define the function and its derivative ---
def f(x):
    """The function to be plotted."""
    return x**3 - 2*x**2 + x + 2

def f_prime(x):
    """The derivative of the function f(x)."""
    # Using the power rule: d/dx(ax^n) = n*a*x^(n-1)
    # f(x) = x^3 - 2x^2 + x + 2
    # f'(x) = 3x^2 - 4x + 1
    return 3*x**2 - 4*x + 1

# --- Configuration ---
# Set a fixed x-coordinate for the point of tangency
x_0 = 1.5

# --- Calculations ---
# Calculate the y-coordinate of the point of tangency
y_0 = f(x_0)

# Calculate the slope of the tangent line at x_0
m = f_prime(x_0)

# --- Matplotlib Plotting ---
fig, ax = plt.subplots(figsize=(10, 6))

# Generate x-values for the main function plot
x_values = np.linspace(-3, 4, 400)
# Calculate corresponding y-values
y_values = f(x_values)

# Plot the main function
ax.plot(x_values, y_values, label="$f(x) = x^3 - 2x^2 + x + 2$", color='blue')

# Generate x-values for the tangent line
# The tangent line is a linear function: y = m(x - x_0) + y_0
x_tangent = np.linspace(x_0 - 1.5, x_0 + 1.5, 2)
y_tangent = m * (x_tangent - x_0) + y_0

# Plot the tangent line
ax.plot(x_tangent, y_tangent, label=f"Tangent at $x_0={x_0}$", linestyle='--', color='red')

# Plot the point of tangency
ax.plot(x_0, y_0, 'o', color='red', label=f"Point P({x_0}, {y_0:.2f})")

# --- Plot Customization ---
ax.set_title("Tangent Line to $f(x)$")
ax.set_xlabel("$x$")
ax.set_ylabel("$y$")
ax.axhline(0, color='black', linewidth=0.5)
ax.axvline(0, color='black', linewidth=0.5)
ax.grid(color='gray', linestyle='--', linewidth=0.5)
ax.legend()
ax.set_ylim(-10, 15)  # Set a fixed y-limit for consistent visualization

# --- Display the plot ---
plt.show()

# --- Display the calculated values (optional, prints to console) ---
print("--- Calculations ---")
print(f"Selected point's x-coordinate: x_0 = {x_0}")
print(f"Selected point's y-coordinate: y_0 = f({x_0}) = {y_0:.2f}")
print(f"Slope of the tangent line: m = f'({x_0}) = {m:.2f}")
print(f"Equation of the tangent line: y - {y_0:.2f} = {m:.2f}(x - {x_0})")









import matplotlib.pyplot as plt
import numpy as np

# --- Define the function and its derivative ---
def f(x):
    """The function to be plotted."""
    return x**3 - 2*x**2 + x + 2

def f_prime(x):
    """The derivative of the function f(x)."""
    # f(x) = x^3 - 2x^2 + x + 2
    # f'(x) = 3x^2 - 4x + 1
    return 3*x**2 - 4*x + 1

# --- Configuration ---
# Set the x-coordinate for point P (the point of tangency)
x_0 = 1.5
# Set the x-coordinate for point Q (the second point on the secant line)
x_1 = 2.5

# --- Calculations for Tangent Line ---
# Calculate the y-coordinate of point P
y_0 = f(x_0)
# Calculate the slope of the tangent line at x_0
m_tangent = f_prime(x_0)

# --- Calculations for Secant Line ---
# Calculate the y-coordinate of point Q
y_1 = f(x_1)
# Calculate the slope of the secant line connecting P and Q
m_secant = (y_1 - y_0) / (x_1 - x_0)

# --- Matplotlib Plotting ---
fig, ax = plt.subplots(figsize=(10, 6))

# Generate x-values for the main function plot
x_values = np.linspace(-3, 4, 400)
# Calculate corresponding y-values
y_values = f(x_values)

# Plot the main function
ax.plot(x_values, y_values, label="$f(x) = x^3 - 2x^2 + x + 2$", color='blue')

# Plot point P and Q
ax.plot(x_0, y_0, 'o', color='red', label=f"Point P({x_0}, {y_0:.2f})")
ax.plot(x_1, y_1, 'o', color='green', label=f"Point Q({x_1}, {y_1:.2f})")

# Generate x-values for the tangent line
x_tangent = np.linspace(x_0 - 1.5, x_0 + 1.5, 2)
y_tangent = m_tangent * (x_tangent - x_0) + y_0
ax.plot(x_tangent, y_tangent, label=f"Tangent Line ($m={m_tangent:.2f}$)", linestyle='--', color='red')

# Generate x-values for the secant line
x_secant = np.linspace(min(x_0, x_1) - 0.5, max(x_0, x_1) + 0.5, 2)
y_secant = m_secant * (x_secant - x_0) + y_0
ax.plot(x_secant, y_secant, label=f"Secant Line ($m={m_secant:.2f}$)", linestyle=':', color='green')

# --- Plot Customization ---
ax.set_title("Tangent and Secant Lines to $f(x)$")
ax.set_xlabel("$x$")
ax.set_ylabel("$y$")
ax.axhline(0, color='black', linewidth=0.5)
ax.axvline(0, color='black', linewidth=0.5)
ax.grid(color='gray', linestyle='--', linewidth=0.5)
ax.legend()
ax.set_ylim(-10, 15)  # Set a fixed y-limit for consistent visualization

# --- Display the plot ---
plt.show()

# --- Display the calculated values (optional, prints to console) ---
print("--- Calculations ---")
print(f"Point P: ({x_0}, {y_0:.2f})")
print(f"Point Q: ({x_1}, {y_1:.2f})")
print(f"Slope of the tangent line at P: m_tangent = {m_tangent:.2f}")
print(f"Slope of the secant line PQ: m_secant = {m_secant:.2f}")






import matplotlib.pyplot as plt
import numpy as np

# --- Define the function and its derivative ---
def f(x):
    """The function to be plotted."""
    return x**3 - 2*x**2 + x + 2

def f_prime(x):
    """The derivative of the function f(x)."""
    return 3*x**2 - 4*x + 1

# --- Configuration ---
# Fix the x-coordinate for point P (the point of tangency)
x_p = 1.5
# Define a list of x-coordinates for point Q, getting successively closer to x_p
x_q_values = [3.0, 2.5, 2.0, 1.75, 1.6, 1.51]

# --- Matplotlib Plotting ---
fig, ax = plt.subplots(figsize=(10, 6))

# Generate x-values for the main function plot
x_values = np.linspace(-3, 4, 400)
# Calculate corresponding y-values
y_values = f(x_values)

# Plot the main function
ax.plot(x_values, y_values, label="$f(x) = x^3 - 2x^2 + x + 2$", color='blue')

# Plot the fixed point P
y_p = f(x_p)
ax.plot(x_p, y_p, 'o', color='red', markersize=8, zorder=5, label=f"Fixed Point P({x_p}, {y_p:.2f})")

# --- Loop to plot a series of secant lines ---
# We use a color map to show the progression of the secant lines
colors = plt.cm.viridis(np.linspace(0, 1, len(x_q_values)))

for i, x_q in enumerate(x_q_values):
    # Calculate the y-coordinate for the current point Q
    y_q = f(x_q)
    
    # Plot the point Q
    ax.plot(x_q, y_q, 'o', color=colors[i], markersize=6)
    
    # Calculate the slope of the secant line
    if x_q != x_p:
        m_secant = (y_q - y_p) / (x_q - x_p)
        # Create x-values for the secant line
        x_secant = np.linspace(min(x_p, x_q) - 0.5, max(x_p, x_q) + 0.5, 2)
        # Calculate y-values for the secant line
        y_secant = m_secant * (x_secant - x_p) + y_p
        
        # Plot the secant line with a label for the last one only
        if i == len(x_q_values) - 1:
            ax.plot(x_secant, y_secant, color=colors[i], linestyle='--', alpha=0.8, 
                    label=f"Secant lines as Q approaches P")
        else:
            ax.plot(x_secant, y_secant, color=colors[i], linestyle='--', alpha=0.5)

# --- Plot the final tangent line ---
m_tangent = f_prime(x_p)
x_tangent = np.linspace(x_p - 1.5, x_p + 1.5, 2)
y_tangent = m_tangent * (x_tangent - x_p) + y_p
ax.plot(x_tangent, y_tangent, color='red', linestyle='-', linewidth=2, zorder=10, 
        label=f"Tangent Line ($m={m_tangent:.2f}$)")

# --- Plot Customization ---
ax.set_title("Visualizing the Limit: Secant Lines Approaching the Tangent Line")
ax.set_xlabel("$x$")
ax.set_ylabel("$y$")
ax.axhline(0, color='black', linewidth=0.5)
ax.axvline(0, color='black', linewidth=0.5)
ax.grid(color='gray', linestyle='--', linewidth=0.5)
ax.legend(loc='upper left')
ax.set_ylim(-10, 15)  # Set a fixed y-limit for consistent visualization
ax.set_xlim(-0.5, 3.5)

# --- Display the plot ---
plt.show()

# --- Print a summary of the concept to the console ---
print("\n--- Summary ---")
print(f"Fixed point P: ({x_p}, {y_p:.2f})")
print(f"The tangent line at P has a slope m = {m_tangent:.2f}")
print("The plot shows a series of secant lines connecting P with points Q that are getting closer to P.")
print("As Q approaches P, the secant lines visually converge to become the tangent line.")
print("The derivative, f'({x_p}), represents this limiting slope.")






import matplotlib.pyplot as plt
import numpy as np

# --- Define the function and its derivative ---
def f(x):
    """The function to be plotted."""
    return x**3 - 2*x**2 + x + 2

# --- Configuration ---
# Fix the x-coordinate for point P
x_0 = 1.5
# Define the change in x (Delta x)
delta_x = 1.0  # You can change this value to see the effect

# --- Calculations ---
# Calculate the x-coordinate for point Q
x_1 = x_0 + delta_x

# Calculate the y-coordinates for P and Q
y_0 = f(x_0)
y_1 = f(x_1)

# Calculate the change in y (Delta f)
delta_f = y_1 - y_0

# Calculate the slope of the secant line PQ
slope_pq = delta_f / delta_x

# --- Matplotlib Plotting ---
fig, ax = plt.subplots(figsize=(12, 8))

# Generate x-values for the main function plot
x_values = np.linspace(-3, 4, 400)
y_values = f(x_values)

# Plot the main function
ax.plot(x_values, y_values, label="$f(x)$", color='blue')

# Plot points P and Q
ax.plot(x_0, y_0, 'o', color='red', markersize=8, zorder=5, label=f"Point P({x_0}, {y_0:.2f})")
ax.plot(x_1, y_1, 'o', color='green', markersize=8, zorder=5, label=f"Point Q({x_1}, {y_1:.2f})")

# Plot the secant line connecting P and Q
x_secant = np.linspace(x_0 - 1, x_1 + 1, 2)
y_secant = slope_pq * (x_secant - x_0) + y_0
ax.plot(x_secant, y_secant, label=f"Secant Line PQ (slope = {slope_pq:.2f})", linestyle='--', color='red')

# --- Annotations for Delta x and Delta f ---
# Draw horizontal line for Delta x
ax.plot([x_0, x_1], [y_0, y_0], color='gray', linestyle=':')
ax.text(x_0 + delta_x / 2, y_0 - 1.0, f"$\Delta x = {delta_x}$", ha='center', va='top', fontsize=12, color='black')

# Draw vertical lines for Delta f
ax.plot([x_1, x_1], [y_0, y_1], color='gray', linestyle=':')
ax.text(x_1 + 0.2, y_0 + delta_f / 2, f"$\Delta f = {delta_f:.2f}$", ha='left', va='center', fontsize=12, color='black')

# --- Plot Customization ---
ax.set_title("The Derivative as a Limit: Slope of the Secant Line")
ax.set_xlabel("$x$")
ax.set_ylabel("$f(x)$")
ax.axhline(0, color='black', linewidth=0.5)
ax.axvline(0, color='black', linewidth=0.5)
ax.grid(color='gray', linestyle='--', linewidth=0.5)
ax.legend()
ax.set_ylim(-10, 15)
ax.set_xlim(-1, 4)

# --- Display the plot ---
plt.show()

# --- Print the summary of calculations ---
print(f"For $\Delta x = {delta_x}$:")
print(f"Point P is at ({x_0}, {y_0:.2f})")
print(f"Point Q is at ({x_1}, {y_1:.2f})")
print(f"The change in x is $\Delta x = {delta_x:.2f}$")
print(f"The change in f is $\Delta f = {delta_f:.2f}$")
print(f"The slope of the secant line PQ is $\\frac{{\Delta f}}{{\Delta x}} = {slope_pq:.2f}$")






import matplotlib.pyplot as plt
import numpy as np

# --- Define the function and its derivative ---
def f(x):
    """The function to be plotted."""
    return x**3 - 2*x**2 + x + 2

def f_prime(x):
    """The derivative of the function f(x)."""
    return 3*x**2 - 4*x + 1

# --- Configuration ---
# Fix the x-coordinate for point P
x_0 = 1.5
# Define the change in x (Delta x)
delta_x = 1.5  # You can change this value to see the effect of the limit

# --- Calculations ---
# Calculate the x-coordinate for point Q
x_q = x_0 + delta_x

# Calculate the y-coordinates for P and Q
y_p = f(x_0)
y_q = f(x_q)

# Calculate the components of the derivative formula
delta_f = f(x_0 + delta_x) - f(x_0)
slope_secant = delta_f / delta_x
slope_tangent = f_prime(x_0)

# --- Matplotlib Plotting ---
fig, ax = plt.subplots(figsize=(12, 8))

# Generate x-values for the main function plot
x_values = np.linspace(-3, 4, 400)
y_values = f(x_values)

# Plot the main function
ax.plot(x_values, y_values, label="$f(x)$", color='blue')

# Plot points P and Q
ax.plot(x_0, y_p, 'o', color='red', markersize=8, zorder=5, label=f"Point P({x_0}, {y_p:.2f})")
ax.plot(x_q, y_q, 'o', color='green', markersize=8, zorder=5, label=f"Point Q({x_q:.2f}, {y_q:.2f})")

# Plot the secant line connecting P and Q
x_secant = np.linspace(x_0 - 1, x_q + 1, 2)
y_secant = slope_secant * (x_secant - x_0) + y_p
ax.plot(x_secant, y_secant, label=f"Secant Line (slope = {slope_secant:.2f})", linestyle='--', color='red')

# --- Annotations for Delta x and Delta f ---
# Draw horizontal line for Delta x
ax.plot([x_0, x_q], [y_p, y_p], color='gray', linestyle=':')
ax.text(x_0 + delta_x / 2, y_p - 1.0, f"$\Delta x = {delta_x}$", ha='center', va='top', fontsize=12, color='black')

# Draw vertical lines for Delta f
ax.plot([x_q, x_q], [y_p, y_q], color='gray', linestyle=':')
ax.text(x_q + 0.2, y_p + delta_f / 2, f"$\Delta f = {delta_f:.2f}$", ha='left', va='center', fontsize=12, color='black')

# --- Plot the tangent line for comparison ---
x_tangent = np.linspace(x_0 - 1.5, x_0 + 1.5, 2)
y_tangent = slope_tangent * (x_tangent - x_0) + y_p
ax.plot(x_tangent, y_tangent, color='blue', linestyle='-', linewidth=2, zorder=10, 
        label=f"Tangent Line ($m = {slope_tangent:.2f}$)")


# --- Plot Customization ---
ax.set_title("The Derivative: $f'(x_0) = \\lim_{\\Delta x \\to 0} \\frac{f(x_0 + \\Delta x) - f(x_0)}{\\Delta x}$")
ax.set_xlabel("$x$")
ax.set_ylabel("$y$")
ax.axhline(0, color='black', linewidth=0.5)
ax.axvline(0, color='black', linewidth=0.5)
ax.grid(color='gray', linestyle='--', linewidth=0.5)
ax.legend()
ax.set_ylim(-10, 15)
ax.set_xlim(0, 4)

# --- Display the plot ---
plt.show()

# --- Print a summary of calculations to the console ---
print(f"For a fixed point P at x = {x_0}")
print(f"and a change in x, $\Delta x = {delta_x}$:")
print(f"Point P coordinates: ({x_0}, {y_p:.2f})")
print(f"Point Q coordinates: ({x_q:.2f}, {y_q:.2f})")
print(f"The numerator is $f(x_0 + \Delta x) - f(x_0) = {y_q:.2f} - {y_p:.2f} = {delta_f:.2f}$")
print(f"The denominator is $\Delta x = {delta_x:.2f}$")
print(f"The slope of the secant line is $\\frac{{\Delta f}}{{\Delta x}} = {slope_secant:.2f}$")
print(f"The slope of the tangent line at x = {x_0} is $f'({x_0}) = {slope_tangent:.2f}$")






import matplotlib.pyplot as plt
import numpy as np

# --- Define the function and its derivative ---
def f(x):
    """The function to be plotted."""
    return x**3 - 2*x**2 + x + 2

def f_prime(x):
    """The derivative of the function f(x)."""
    return 3*x**2 - 4*x + 1

# --- Configuration ---
# Fix the x-coordinate for point P
x_0 = 1.5

# Define a list of delta_x values, getting smaller and smaller
delta_x_values = [2.0, 1.5, 1.0, 0.5, 0.25, 0.1, 0.05]

# --- Matplotlib Plotting ---
fig, ax = plt.subplots(figsize=(12, 8))

# Generate x-values for the main function plot
x_values = np.linspace(-3, 4, 400)
y_values = f(x_values)

# Plot the main function
ax.plot(x_values, y_values, label="$f(x)$", color='blue')

# Calculate the y-coordinate for the fixed point P
y_0 = f(x_0)

# Plot the fixed point P
ax.plot(x_0, y_0, 'o', color='red', markersize=8, zorder=5, label=f"Fixed Point P({x_0}, {y_0:.2f})")

# --- Loop to plot a series of secant lines ---
# We use a color map to show the progression of the secant lines
colors = plt.cm.plasma(np.linspace(0, 1, len(delta_x_values)))

print("--- Secant line slopes as Delta x approaches 0 ---")
for i, delta_x in enumerate(delta_x_values):
    # Calculate the x-coordinate for the current point Q
    x_q = x_0 + delta_x
    y_q = f(x_q)
    
    # Calculate the slope of the secant line
    slope_secant = (y_q - y_0) / delta_x
    print(f"Delta x = {delta_x:<5.2f} | Slope = {slope_secant:.4f}")

    # Create x-values for the secant line
    x_secant = np.linspace(x_0 - 1.5, x_q + 1.5, 2)
    y_secant = slope_secant * (x_secant - x_0) + y_0
    
    # Plot the secant line with a color from the colormap
    ax.plot(x_secant, y_secant, color=colors[i], linestyle='--', alpha=0.7)

    # Plot the point Q
    ax.plot(x_q, y_q, 'o', color=colors[i], markersize=6)
    
    # Add annotation for Delta x and Delta f for the first secant line only, to avoid clutter
    if i == 0:
        # Annotation for Delta x
        ax.plot([x_0, x_q], [y_0, y_0], color='gray', linestyle=':')
        ax.text(x_0 + delta_x / 2, y_0 - 1.0, f"$\Delta x$", ha='center', va='top', fontsize=12)
        # Annotation for Delta f
        ax.plot([x_q, x_q], [y_0, y_q], color='gray', linestyle=':')
        ax.text(x_q + 0.2, y_0 + (y_q - y_0) / 2, f"$\Delta f$", ha='left', va='center', fontsize=12)


# --- Plot the final tangent line ---
slope_tangent = f_prime(x_0)
x_tangent = np.linspace(x_0 - 1.5, x_0 + 1.5, 2)
y_tangent = slope_tangent * (x_tangent - x_0) + y_0
ax.plot(x_tangent, y_tangent, color='red', linestyle='-', linewidth=3, zorder=10, 
        label=f"Tangent Line ($m = {slope_tangent:.4f}$)")

# --- Plot Customization ---
ax.set_title(r"The Derivative: $f'(x_0) = \lim_{\Delta x \to 0} \frac{f(x_0 + \Delta x) - f(x_0)}{\Delta x}$")
ax.set_xlabel("$x$")
ax.set_ylabel("$y$")
ax.axhline(0, color='black', linewidth=0.5)
ax.axvline(0, color='black', linewidth=0.5)
ax.grid(color='gray', linestyle='--', linewidth=0.5)
ax.legend(loc='upper left')
ax.set_ylim(-10, 15)
ax.set_xlim(-1, 4)

# --- Display the plot ---
plt.show()

# --- Print the final convergence summary ---
print(f"\nFinal tangent slope at x_0={x_0}: f'({x_0}) = {slope_tangent:.4f}")
print("As you can see, the slopes of the secant lines converge to the tangent slope as $\Delta x$ approaches 0.")






import numpy as np
import matplotlib.pyplot as plt
from matplotlib.animation import FuncAnimation
from IPython.display import HTML

# Define the function and its derivative
def f(x):
    return x**3 - 2*x**2 + x + 2

def f_prime(x):
    return 3*x**2 - 4*x + 1

# Fixed point P (where we compute the derivative)
x0 = 1.5
y0 = f(x0)
m_tangent = f_prime(x0)  # True derivative (slope of tangent)

# Generate data for plotting the function
x_vals = np.linspace(-1, 3, 400)
y_vals = f(x_vals)

# Create the figure and axis
fig, ax = plt.subplots(figsize=(10, 6))
ax.set_xlim(-1, 3)
ax.set_ylim(-2, 8)
ax.set_title("Derivative as Limit of Secant Lines: $f'(x_0) = \lim_{\Delta x \\to 0} \\frac{f(x_0 + \Delta x) - f(x_0)}{\Delta x}$")
ax.grid(True, linestyle='--', alpha=0.7)
ax.axhline(0, color='black', linewidth=0.5)
ax.axvline(0, color='black', linewidth=0.5)

# Plot the function
ax.plot(x_vals, y_vals, 'b-', label="$f(x) = x^3 - 2x^2 + x + 2$", linewidth=2)

# Plot the fixed point P (as a list to avoid the error)
point_P, = ax.plot([x0], [y0], 'ro', markersize=8, label=f"Point P ($x_0 = {x0}$)")

# Plot the tangent line (using the derivative)
tangent_line, = ax.plot([], [], 'r-', linewidth=2, label=f"Tangent line ($m = {m_tangent:.2f}$)")

# Initialize secant line and point Q (as lists)
secant_line, = ax.plot([], [], 'g--', linewidth=1.5, alpha=0.7, label="Secant line PQ")
point_Q, = ax.plot([], [], 'go', markersize=6)

# Annotations for Δx and Δf
delta_x_text = ax.text(0.05, 0.9, "", transform=ax.transAxes, fontsize=10)
delta_f_text = ax.text(0.05, 0.85, "", transform=ax.transAxes, fontsize=10)
slope_text = ax.text(0.05, 0.8, "", transform=ax.transAxes, fontsize=10)

# Animation function
def animate(dx):
    # Update point Q (as a list)
    xQ = x0 + dx
    yQ = f(xQ)
    point_Q.set_data([xQ], [yQ])  # Pass coordinates as lists
    
    # Update secant line (PQ)
    secant_line.set_data([x0, xQ], [y0, yQ])
    
    # Update tangent line (fixed, for comparison)
    tangent_line.set_data([x0 - 1, x0 + 1], [y0 - m_tangent, y0 + m_tangent])
    
    # Annotations
    delta_x_text.set_text(f"$\Delta x = {dx:.3f}$")
    delta_f_text.set_text(f"$\Delta f = {yQ - y0:.3f}$")
    slope_text.set_text(f"Slope of PQ = $\\frac{{\Delta f}}{{\Delta x}} = {(yQ - y0)/dx:.3f}$")
    
    return secant_line, point_Q, delta_x_text, delta_f_text, slope_text

# Animate Δx approaching 0
deltas = np.concatenate([
    np.linspace(1.0, 0.1, 15),
    np.linspace(0.1, 0.01, 15),
    np.linspace(0.01, 0.001, 10)
])

# Create animation (with blit=False to avoid issues)
ani = FuncAnimation(fig, animate, frames=deltas, interval=200, blit=False)

# Display the animation (for Jupyter notebooks)
plt.legend(loc="upper left")
plt.close()
HTML(ani.to_jshtml())

# For non-notebook environments, save as GIF or MP4
# ani.save("derivative_animation.gif", writer="pillow", fps=10)






