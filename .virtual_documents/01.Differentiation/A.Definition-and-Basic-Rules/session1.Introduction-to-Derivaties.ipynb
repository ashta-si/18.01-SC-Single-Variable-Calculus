











import matplotlib.pyplot as plt
import numpy as np

# --- Define the function and its derivative ---
def f(x):
    """The function to be plotted."""
    return x**3 - 2*x**2 + x + 2

def f_prime(x):
    """The derivative of the function f(x)."""
    # Using the power rule: d/dx(ax^n) = n*a*x^(n-1)
    # f(x) = x^3 - 2x^2 + x + 2
    # f'(x) = 3x^2 - 4x + 1
    return 3*x**2 - 4*x + 1

# --- Configuration ---
# Set a fixed x-coordinate for the point of tangency
x_0 = 1.5

# --- Calculations ---
# Calculate the y-coordinate of the point of tangency
y_0 = f(x_0)

# Calculate the slope of the tangent line at x_0
m = f_prime(x_0)

# --- Matplotlib Plotting ---
fig, ax = plt.subplots(figsize=(10, 6))

# Generate x-values for the main function plot
x_values = np.linspace(-3, 4, 400)
# Calculate corresponding y-values
y_values = f(x_values)

# Plot the main function
ax.plot(x_values, y_values, label="$f(x) = x^3 - 2x^2 + x + 2$", color='blue')

# Generate x-values for the tangent line
# The tangent line is a linear function: y = m(x - x_0) + y_0
x_tangent = np.linspace(x_0 - 1.5, x_0 + 1.5, 2)
y_tangent = m * (x_tangent - x_0) + y_0

# Plot the tangent line
ax.plot(x_tangent, y_tangent, label=f"Tangent at $x_0={x_0}$", linestyle='--', color='red')

# Plot the point of tangency
ax.plot(x_0, y_0, 'o', color='red', label=f"Point P({x_0}, {y_0:.2f})")

# --- Plot Customization ---
ax.set_title("Tangent Line to $f(x)$")
ax.set_xlabel("$x$")
ax.set_ylabel("$y$")
ax.axhline(0, color='black', linewidth=0.5)
ax.axvline(0, color='black', linewidth=0.5)
ax.grid(color='gray', linestyle='--', linewidth=0.5)
ax.legend()
ax.set_ylim(-10, 15)  # Set a fixed y-limit for consistent visualization

# --- Display the plot ---
plt.show()

# --- Display the calculated values (optional, prints to console) ---
print("--- Calculations ---")
print(f"Selected point's x-coordinate: x_0 = {x_0}")
print(f"Selected point's y-coordinate: y_0 = f({x_0}) = {y_0:.2f}")
print(f"Slope of the tangent line: m = f'({x_0}) = {m:.2f}")
print(f"Equation of the tangent line: y - {y_0:.2f} = {m:.2f}(x - {x_0})")













